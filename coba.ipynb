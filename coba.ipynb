{
  "nbformat": 4,
  "nbformat_minor": 0,
  "metadata": {
    "colab": {
      "provenance": [],
      "authorship_tag": "ABX9TyMxUvAp+3s1vRhupQCE9sed",
      "include_colab_link": true
    },
    "kernelspec": {
      "name": "python3",
      "display_name": "Python 3"
    },
    "language_info": {
      "name": "python"
    }
  },
  "cells": [
    {
      "cell_type": "markdown",
      "metadata": {
        "id": "view-in-github",
        "colab_type": "text"
      },
      "source": [
        "<a href=\"https://colab.research.google.com/github/Anisafi/T3-deeplearning/blob/main/coba.ipynb\" target=\"_parent\"><img src=\"https://colab.research.google.com/assets/colab-badge.svg\" alt=\"Open In Colab\"/></a>"
      ]
    },
    {
      "cell_type": "code",
      "execution_count": 1,
      "metadata": {
        "id": "eXNJiuX5ScDM",
        "colab": {
          "base_uri": "https://localhost:8080/"
        },
        "outputId": "4f090fea-43f6-4e8e-8348-eb96bebfbee0"
      },
      "outputs": [
        {
          "output_type": "stream",
          "name": "stdout",
          "text": [
            "Drive already mounted at /content/drive; to attempt to forcibly remount, call drive.mount(\"/content/drive\", force_remount=True).\n"
          ]
        }
      ],
      "source": [
        "# Import\n",
        "import torch, torchvision\n",
        "import torch.nn as nn\n",
        "import torchvision.transforms as T\n",
        "from torchvision.datasets import ImageFolder\n",
        "from torch.utils.data import DataLoader, random_split\n",
        "import numpy as np, time\n",
        "from google.colab import drive\n",
        "\n",
        "drive.mount('/content/drive')\n",
        "device = torch.device(\"cuda\" if torch.cuda.is_available() else \"cpu\")"
      ]
    },
    {
      "cell_type": "code",
      "source": [
        "# Load dataset\n",
        "tfm = T.Compose([T.Resize((224,224)), T.ToTensor()])\n",
        "path = '/content/drive/MyDrive/dataset_anisa'\n",
        "data = ImageFolder(path, transform=tfm)\n",
        "classes = data.classes\n"
      ],
      "metadata": {
        "id": "cE-G6mkgTyLJ"
      },
      "execution_count": 2,
      "outputs": []
    },
    {
      "cell_type": "code",
      "source": [
        "# Split\n",
        "n = len(data)\n",
        "train_len, val_len = int(0.7*n), int(0.15*n)\n",
        "test_len = n - train_len - val_len\n",
        "train_ds, val_ds, test_ds = random_split(data, [train_len, val_len, test_len])\n",
        "train_dl = DataLoader(train_ds, batch_size=32, shuffle=True)\n",
        "val_dl = DataLoader(val_ds, batch_size=32)\n",
        "test_dl = DataLoader(test_ds, batch_size=32)\n"
      ],
      "metadata": {
        "id": "yl1MDBkPUA3f"
      },
      "execution_count": 3,
      "outputs": []
    },
    {
      "cell_type": "code",
      "source": [
        "# Model CNN Ringkas\n",
        "class SimpleCNN(nn.Module):\n",
        "    def __init__(self, num_classes):\n",
        "        super().__init__()\n",
        "        self.net = nn.Sequential(\n",
        "            nn.Conv2d(3, 16, 3, padding=1), nn.ReLU(), nn.MaxPool2d(2),\n",
        "            nn.Conv2d(16, 32, 3, padding=1), nn.ReLU(), nn.MaxPool2d(2),\n",
        "            nn.Conv2d(32, 64, 3, padding=1), nn.ReLU(), nn.MaxPool2d(2),\n",
        "            nn.Flatten(),\n",
        "            nn.Linear(64*28*28, 128), nn.ReLU(),\n",
        "            nn.Linear(128, num_classes)\n",
        "        )\n",
        "    def forward(self, x): return self.net(x)\n",
        "\n",
        "model = SimpleCNN(num_classes=len(classes)).to(device)\n",
        "\n",
        "# Loss & Optimizer\n",
        "loss_fn = nn.CrossEntropyLoss()\n",
        "opt = torch.optim.Adam(model.parameters(), lr=1e-4)\n"
      ],
      "metadata": {
        "id": "CastGNQWSij5"
      },
      "execution_count": 4,
      "outputs": []
    },
    {
      "cell_type": "code",
      "source": [
        "# Train loop\n",
        "for epoch in range(50):\n",
        "    model.train()\n",
        "    start = time.time()\n",
        "    total_loss, correct, count = 0, 0, 0\n",
        "    for xb, yb in train_dl:\n",
        "        xb, yb = xb.to(device), yb.to(device)\n",
        "        pred = model(xb)\n",
        "        loss = loss_fn(pred, yb)\n",
        "        opt.zero_grad(); loss.backward(); opt.step()\n",
        "        total_loss += loss.item()\n",
        "        correct += (pred.argmax(1) == yb).sum().item()\n",
        "        count += len(yb)\n",
        "    train_acc = correct / count\n",
        "    train_loss = total_loss / len(train_dl)\n",
        "\n",
        "    # Validation\n",
        "    model.eval()\n",
        "    val_loss, val_correct, val_count = 0, 0, 0\n",
        "    with torch.no_grad():\n",
        "        for xb, yb in val_dl:\n",
        "            xb, yb = xb.to(device), yb.to(device)\n",
        "            pred = model(xb)\n",
        "            val_loss += loss_fn(pred, yb).item()\n",
        "            val_correct += (pred.argmax(1) == yb).sum().item()\n",
        "            val_count += len(yb)\n",
        "    val_acc = val_correct / val_count\n",
        "    val_loss /= len(val_dl)\n",
        "\n",
        "    elapsed = time.time() - start\n",
        "    print(f\"Epoch {epoch+1}/50\\n{len(train_dl)}/{len(train_dl)} ━━━━━━━━━━━━━━━━━━━━ \"\n",
        "          f\"{int(elapsed)}s {int(elapsed/len(train_dl))}s/step - \"\n",
        "          f\"accuracy: {train_acc:.4f} - loss: {train_loss:.4f} - \"\n",
        "          f\"val_accuracy: {val_acc:.4f} - val_loss: {val_loss:.4f}\")\n"
      ],
      "metadata": {
        "id": "jkd0yiEqSinT",
        "colab": {
          "base_uri": "https://localhost:8080/"
        },
        "outputId": "7717b495-c619-4eff-8109-ee382a32253d"
      },
      "execution_count": 5,
      "outputs": [
        {
          "output_type": "stream",
          "name": "stdout",
          "text": [
            "Epoch 1/50\n",
            "27/27 ━━━━━━━━━━━━━━━━━━━━ 431s 15s/step - accuracy: 0.3964 - loss: 1.3638 - val_accuracy: 0.4111 - val_loss: 1.3150\n",
            "Epoch 2/50\n",
            "27/27 ━━━━━━━━━━━━━━━━━━━━ 241s 8s/step - accuracy: 0.5060 - loss: 1.1764 - val_accuracy: 0.5111 - val_loss: 1.1364\n",
            "Epoch 3/50\n",
            "27/27 ━━━━━━━━━━━━━━━━━━━━ 230s 8s/step - accuracy: 0.5571 - loss: 0.9733 - val_accuracy: 0.4222 - val_loss: 1.0189\n",
            "Epoch 4/50\n",
            "27/27 ━━━━━━━━━━━━━━━━━━━━ 233s 8s/step - accuracy: 0.6857 - loss: 0.8835 - val_accuracy: 0.6278 - val_loss: 0.9679\n",
            "Epoch 5/50\n",
            "27/27 ━━━━━━━━━━━━━━━━━━━━ 220s 8s/step - accuracy: 0.7083 - loss: 0.8081 - val_accuracy: 0.7444 - val_loss: 0.8562\n",
            "Epoch 6/50\n",
            "27/27 ━━━━━━━━━━━━━━━━━━━━ 222s 8s/step - accuracy: 0.7357 - loss: 0.7339 - val_accuracy: 0.6722 - val_loss: 0.8225\n",
            "Epoch 7/50\n",
            "27/27 ━━━━━━━━━━━━━━━━━━━━ 238s 8s/step - accuracy: 0.7405 - loss: 0.6798 - val_accuracy: 0.7667 - val_loss: 0.7480\n",
            "Epoch 8/50\n",
            "27/27 ━━━━━━━━━━━━━━━━━━━━ 228s 8s/step - accuracy: 0.7738 - loss: 0.6105 - val_accuracy: 0.7889 - val_loss: 0.6996\n",
            "Epoch 9/50\n",
            "27/27 ━━━━━━━━━━━━━━━━━━━━ 228s 8s/step - accuracy: 0.8286 - loss: 0.5236 - val_accuracy: 0.8056 - val_loss: 0.6731\n",
            "Epoch 10/50\n",
            "27/27 ━━━━━━━━━━━━━━━━━━━━ 236s 8s/step - accuracy: 0.8631 - loss: 0.4520 - val_accuracy: 0.8111 - val_loss: 0.6304\n",
            "Epoch 11/50\n",
            "27/27 ━━━━━━━━━━━━━━━━━━━━ 230s 8s/step - accuracy: 0.8429 - loss: 0.4282 - val_accuracy: 0.8111 - val_loss: 0.6213\n",
            "Epoch 12/50\n",
            "27/27 ━━━━━━━━━━━━━━━━━━━━ 234s 8s/step - accuracy: 0.8929 - loss: 0.3621 - val_accuracy: 0.8333 - val_loss: 0.6052\n",
            "Epoch 13/50\n",
            "27/27 ━━━━━━━━━━━━━━━━━━━━ 221s 8s/step - accuracy: 0.8929 - loss: 0.3227 - val_accuracy: 0.7944 - val_loss: 0.6775\n",
            "Epoch 14/50\n",
            "27/27 ━━━━━━━━━━━━━━━━━━━━ 222s 8s/step - accuracy: 0.9071 - loss: 0.3055 - val_accuracy: 0.8444 - val_loss: 0.5776\n",
            "Epoch 15/50\n",
            "27/27 ━━━━━━━━━━━━━━━━━━━━ 228s 8s/step - accuracy: 0.9250 - loss: 0.2704 - val_accuracy: 0.8333 - val_loss: 0.6501\n",
            "Epoch 16/50\n",
            "27/27 ━━━━━━━━━━━━━━━━━━━━ 230s 8s/step - accuracy: 0.9321 - loss: 0.2431 - val_accuracy: 0.8444 - val_loss: 0.6468\n",
            "Epoch 17/50\n",
            "27/27 ━━━━━━━━━━━━━━━━━━━━ 233s 8s/step - accuracy: 0.9238 - loss: 0.2391 - val_accuracy: 0.8889 - val_loss: 0.5837\n",
            "Epoch 18/50\n",
            "27/27 ━━━━━━━━━━━━━━━━━━━━ 240s 8s/step - accuracy: 0.9440 - loss: 0.2087 - val_accuracy: 0.8889 - val_loss: 0.5795\n",
            "Epoch 19/50\n",
            "27/27 ━━━━━━━━━━━━━━━━━━━━ 221s 8s/step - accuracy: 0.9405 - loss: 0.2115 - val_accuracy: 0.8944 - val_loss: 0.6017\n",
            "Epoch 20/50\n",
            "27/27 ━━━━━━━━━━━━━━━━━━━━ 242s 8s/step - accuracy: 0.9512 - loss: 0.1839 - val_accuracy: 0.8833 - val_loss: 0.5865\n",
            "Epoch 21/50\n",
            "27/27 ━━━━━━━━━━━━━━━━━━━━ 230s 8s/step - accuracy: 0.9488 - loss: 0.1704 - val_accuracy: 0.8833 - val_loss: 0.6201\n",
            "Epoch 22/50\n",
            "27/27 ━━━━━━━━━━━━━━━━━━━━ 223s 8s/step - accuracy: 0.9643 - loss: 0.1525 - val_accuracy: 0.8889 - val_loss: 0.5710\n",
            "Epoch 23/50\n",
            "27/27 ━━━━━━━━━━━━━━━━━━━━ 235s 8s/step - accuracy: 0.9571 - loss: 0.1559 - val_accuracy: 0.8944 - val_loss: 0.5875\n",
            "Epoch 24/50\n",
            "27/27 ━━━━━━━━━━━━━━━━━━━━ 222s 8s/step - accuracy: 0.9595 - loss: 0.1255 - val_accuracy: 0.9000 - val_loss: 0.6097\n",
            "Epoch 25/50\n",
            "27/27 ━━━━━━━━━━━━━━━━━━━━ 239s 8s/step - accuracy: 0.9702 - loss: 0.1203 - val_accuracy: 0.8944 - val_loss: 0.5857\n",
            "Epoch 26/50\n",
            "27/27 ━━━━━━━━━━━━━━━━━━━━ 236s 8s/step - accuracy: 0.9762 - loss: 0.1060 - val_accuracy: 0.8944 - val_loss: 0.6048\n",
            "Epoch 27/50\n",
            "27/27 ━━━━━━━━━━━━━━━━━━━━ 228s 8s/step - accuracy: 0.9762 - loss: 0.1026 - val_accuracy: 0.8944 - val_loss: 0.5923\n",
            "Epoch 28/50\n",
            "27/27 ━━━━━━━━━━━━━━━━━━━━ 240s 8s/step - accuracy: 0.9845 - loss: 0.0891 - val_accuracy: 0.8944 - val_loss: 0.6083\n",
            "Epoch 29/50\n",
            "27/27 ━━━━━━━━━━━━━━━━━━━━ 225s 8s/step - accuracy: 0.9738 - loss: 0.0892 - val_accuracy: 0.9000 - val_loss: 0.5914\n",
            "Epoch 30/50\n",
            "27/27 ━━━━━━━━━━━━━━━━━━━━ 220s 8s/step - accuracy: 0.9869 - loss: 0.0794 - val_accuracy: 0.8944 - val_loss: 0.6181\n",
            "Epoch 31/50\n",
            "27/27 ━━━━━━━━━━━━━━━━━━━━ 238s 8s/step - accuracy: 0.9857 - loss: 0.0716 - val_accuracy: 0.9000 - val_loss: 0.6290\n",
            "Epoch 32/50\n",
            "27/27 ━━━━━━━━━━━━━━━━━━━━ 227s 8s/step - accuracy: 0.9893 - loss: 0.0726 - val_accuracy: 0.8889 - val_loss: 0.6624\n",
            "Epoch 33/50\n",
            "27/27 ━━━━━━━━━━━━━━━━━━━━ 228s 8s/step - accuracy: 0.9786 - loss: 0.0850 - val_accuracy: 0.9056 - val_loss: 0.5707\n",
            "Epoch 34/50\n",
            "27/27 ━━━━━━━━━━━━━━━━━━━━ 235s 8s/step - accuracy: 0.9845 - loss: 0.0700 - val_accuracy: 0.9000 - val_loss: 0.5925\n",
            "Epoch 35/50\n",
            "27/27 ━━━━━━━━━━━━━━━━━━━━ 223s 8s/step - accuracy: 0.9929 - loss: 0.0510 - val_accuracy: 0.8944 - val_loss: 0.6645\n",
            "Epoch 36/50\n",
            "27/27 ━━━━━━━━━━━━━━━━━━━━ 237s 8s/step - accuracy: 0.9929 - loss: 0.0460 - val_accuracy: 0.8778 - val_loss: 0.6941\n",
            "Epoch 37/50\n",
            "27/27 ━━━━━━━━━━━━━━━━━━━━ 224s 8s/step - accuracy: 0.9917 - loss: 0.0423 - val_accuracy: 0.8944 - val_loss: 0.6713\n",
            "Epoch 38/50\n",
            "27/27 ━━━━━━━━━━━━━━━━━━━━ 229s 8s/step - accuracy: 0.9976 - loss: 0.0362 - val_accuracy: 0.8944 - val_loss: 0.6527\n",
            "Epoch 39/50\n",
            "27/27 ━━━━━━━━━━━━━━━━━━━━ 241s 8s/step - accuracy: 0.9964 - loss: 0.0367 - val_accuracy: 0.9000 - val_loss: 0.7096\n",
            "Epoch 40/50\n",
            "27/27 ━━━━━━━━━━━━━━━━━━━━ 230s 8s/step - accuracy: 0.9952 - loss: 0.0361 - val_accuracy: 0.9056 - val_loss: 0.7000\n",
            "Epoch 41/50\n",
            "27/27 ━━━━━━━━━━━━━━━━━━━━ 227s 8s/step - accuracy: 0.9988 - loss: 0.0288 - val_accuracy: 0.9000 - val_loss: 0.6883\n",
            "Epoch 42/50\n",
            "27/27 ━━━━━━━━━━━━━━━━━━━━ 232s 8s/step - accuracy: 0.9976 - loss: 0.0263 - val_accuracy: 0.9056 - val_loss: 0.7005\n",
            "Epoch 43/50\n",
            "27/27 ━━━━━━━━━━━━━━━━━━━━ 230s 8s/step - accuracy: 0.9976 - loss: 0.0265 - val_accuracy: 0.8944 - val_loss: 0.7355\n",
            "Epoch 44/50\n",
            "27/27 ━━━━━━━━━━━━━━━━━━━━ 240s 8s/step - accuracy: 0.9976 - loss: 0.0206 - val_accuracy: 0.9056 - val_loss: 0.7572\n",
            "Epoch 45/50\n",
            "27/27 ━━━━━━━━━━━━━━━━━━━━ 224s 8s/step - accuracy: 0.9976 - loss: 0.0193 - val_accuracy: 0.9056 - val_loss: 0.7480\n",
            "Epoch 46/50\n",
            "27/27 ━━━━━━━━━━━━━━━━━━━━ 228s 8s/step - accuracy: 0.9976 - loss: 0.0227 - val_accuracy: 0.9056 - val_loss: 0.7633\n",
            "Epoch 47/50\n",
            "27/27 ━━━━━━━━━━━━━━━━━━━━ 241s 8s/step - accuracy: 0.9988 - loss: 0.0189 - val_accuracy: 0.9000 - val_loss: 0.8415\n",
            "Epoch 48/50\n",
            "27/27 ━━━━━━━━━━━━━━━━━━━━ 230s 8s/step - accuracy: 1.0000 - loss: 0.0158 - val_accuracy: 0.9000 - val_loss: 0.8213\n",
            "Epoch 49/50\n",
            "27/27 ━━━━━━━━━━━━━━━━━━━━ 240s 8s/step - accuracy: 1.0000 - loss: 0.0135 - val_accuracy: 0.9056 - val_loss: 0.8473\n",
            "Epoch 50/50\n",
            "27/27 ━━━━━━━━━━━━━━━━━━━━ 228s 8s/step - accuracy: 1.0000 - loss: 0.0140 - val_accuracy: 0.9111 - val_loss: 0.8379\n"
          ]
        }
      ]
    },
    {
      "cell_type": "code",
      "source": [
        "from sklearn.metrics import classification_report, confusion_matrix\n",
        "import seaborn as sns\n",
        "import matplotlib.pyplot as plt\n",
        "\n",
        "# Evaluasi pada test set\n",
        "model.eval()\n",
        "y_true, y_pred = [], []\n",
        "\n",
        "with torch.no_grad():\n",
        "    for xb, yb in test_dl:\n",
        "        xb = xb.to(device)\n",
        "        preds = model(xb).argmax(1).cpu()\n",
        "        y_pred.extend(preds.numpy())\n",
        "        y_true.extend(yb.numpy())\n",
        "\n",
        "# Confusion Matrix\n",
        "cm = confusion_matrix(y_true, y_pred)\n",
        "plt.figure(figsize=(6,5))\n",
        "sns.heatmap(cm, annot=True, fmt='d', xticklabels=classes, yticklabels=classes, cmap='Blues')\n",
        "plt.xlabel(\"Predicted\"); plt.ylabel(\"Actual\"); plt.title(\"Confusion Matrix\")\n",
        "plt.show()\n",
        "\n",
        "# Classification Report\n",
        "print(classification_report(y_true, y_pred, target_names=classes))\n"
      ],
      "metadata": {
        "id": "a1RCHtP6SpeN",
        "colab": {
          "base_uri": "https://localhost:8080/",
          "height": 678
        },
        "outputId": "525822fb-b4a4-495d-a347-0b2fa734772e"
      },
      "execution_count": 6,
      "outputs": [
        {
          "output_type": "display_data",
          "data": {
            "text/plain": [
              "<Figure size 600x500 with 2 Axes>"
            ],
            "image/png": "[encoded data removed]"
          },
          "metadata": {}
        },
        {
          "output_type": "stream",
          "name": "stdout",
          "text": [
            "               precision    recall  f1-score   support\n",
            "\n",
            "  sikat botol       0.96      0.81      0.88        54\n",
            "   sikat gigi       0.83      0.95      0.88        40\n",
            " sikat kloset       0.88      0.88      0.88        43\n",
            "sikat pakaian       0.91      0.95      0.93        43\n",
            "\n",
            "     accuracy                           0.89       180\n",
            "    macro avg       0.89      0.90      0.89       180\n",
            " weighted avg       0.90      0.89      0.89       180\n",
            "\n"
          ]
        }
      ]
    }
  ]
}